{
 "cells": [
  {
   "cell_type": "code",
   "execution_count": 9,
   "metadata": {},
   "outputs": [
    {
     "name": "stdout",
     "output_type": "stream",
     "text": [
      "Requirement already satisfied: wordcloud in /Users/jimmy/opt/anaconda3/envs/venv2/lib/python3.6/site-packages (1.9.2)\n",
      "Requirement already satisfied: matplotlib in /Users/jimmy/opt/anaconda3/envs/venv2/lib/python3.6/site-packages (from wordcloud) (3.3.4)\n",
      "Requirement already satisfied: pillow in /Users/jimmy/opt/anaconda3/envs/venv2/lib/python3.6/site-packages (from wordcloud) (8.3.1)\n",
      "Requirement already satisfied: numpy>=1.6.1 in /Users/jimmy/opt/anaconda3/envs/venv2/lib/python3.6/site-packages (from wordcloud) (1.19.2)\n",
      "Requirement already satisfied: cycler>=0.10 in /Users/jimmy/opt/anaconda3/envs/venv2/lib/python3.6/site-packages (from matplotlib->wordcloud) (0.10.0)\n",
      "Requirement already satisfied: pyparsing!=2.0.4,!=2.1.2,!=2.1.6,>=2.0.3 in /Users/jimmy/opt/anaconda3/envs/venv2/lib/python3.6/site-packages (from matplotlib->wordcloud) (2.4.7)\n",
      "Requirement already satisfied: python-dateutil>=2.1 in /Users/jimmy/opt/anaconda3/envs/venv2/lib/python3.6/site-packages (from matplotlib->wordcloud) (2.8.2)\n",
      "Requirement already satisfied: kiwisolver>=1.0.1 in /Users/jimmy/opt/anaconda3/envs/venv2/lib/python3.6/site-packages (from matplotlib->wordcloud) (1.3.1)\n",
      "Requirement already satisfied: six in /Users/jimmy/opt/anaconda3/envs/venv2/lib/python3.6/site-packages (from cycler>=0.10->matplotlib->wordcloud) (1.16.0)\n"
     ]
    }
   ],
   "source": [
    "import pandas as pd\n",
    "import numpy as np\n",
    "import matplotlib.pyplot as plt\n",
    "import seaborn as sns\n",
    "\n",
    "plt.style.use('ggplot')\n",
    "\n",
    "!pip install wordcloud\n",
    "#!python -m spacy download es_core_news_md\n",
    "\n",
    "import nltk\n",
    "\n",
    "#librerias especificas\n",
    "import nltk\n",
    "from nltk.tokenize import RegexpTokenizer\n",
    "\n",
    "import pandas_profiling as pdp\n",
    "\n",
    "import spacy\n",
    "from spacy.lang.es.stop_words import STOP_WORDS\n",
    "import es_core_news_md\n",
    "from spacy import displacy\n",
    "from collections import Counter\n",
    "\n",
    "\n",
    "import re\n",
    "\n",
    "from unicodedata import normalize\n",
    "\n",
    "import gc\n",
    "gc.enable()\n",
    "\n",
    "##from spellchecker import SpellChecker\n",
    "\n",
    "from collections import Counter\n",
    "\n",
    "from wordcloud import WordCloud \n",
    "\n",
    "#Machine Learning\n",
    "from sklearn.feature_extraction.text import TfidfVectorizer\n",
    "from sklearn.model_selection import train_test_split\n",
    "from sklearn.metrics import accuracy_score\n",
    "from sklearn.metrics import classification_report\n",
    "from sklearn.metrics import confusion_matrix\n",
    "from sklearn.naive_bayes import GaussianNB\n",
    "from sklearn.ensemble import RandomForestClassifier\n",
    "from sklearn.svm import LinearSVC\n",
    "from sklearn.model_selection import GridSearchCV"
   ]
  },
  {
   "cell_type": "code",
   "execution_count": 15,
   "metadata": {},
   "outputs": [],
   "source": [
    "df= pd.read_csv('sentiment.csv')"
   ]
  },
  {
   "cell_type": "code",
   "execution_count": 16,
   "metadata": {},
   "outputs": [
    {
     "data": {
      "text/html": [
       "<div>\n",
       "<style scoped>\n",
       "    .dataframe tbody tr th:only-of-type {\n",
       "        vertical-align: middle;\n",
       "    }\n",
       "\n",
       "    .dataframe tbody tr th {\n",
       "        vertical-align: top;\n",
       "    }\n",
       "\n",
       "    .dataframe thead th {\n",
       "        text-align: right;\n",
       "    }\n",
       "</style>\n",
       "<table border=\"1\" class=\"dataframe\">\n",
       "  <thead>\n",
       "    <tr style=\"text-align: right;\">\n",
       "      <th></th>\n",
       "      <th>ID</th>\n",
       "      <th>Usuario</th>\n",
       "      <th>PrimerAño</th>\n",
       "      <th>Score</th>\n",
       "      <th>Reunion</th>\n",
       "      <th>Comentarios</th>\n",
       "    </tr>\n",
       "  </thead>\n",
       "  <tbody>\n",
       "    <tr>\n",
       "      <th>0</th>\n",
       "      <td>1</td>\n",
       "      <td>Ana</td>\n",
       "      <td>Sí</td>\n",
       "      <td>4.2</td>\n",
       "      <td>Luis Andres</td>\n",
       "      <td>Reunión productiva,se discutieron los próximos...</td>\n",
       "    </tr>\n",
       "    <tr>\n",
       "      <th>1</th>\n",
       "      <td>2</td>\n",
       "      <td>Carlos</td>\n",
       "      <td>No</td>\n",
       "      <td>3.8</td>\n",
       "      <td>Maria Monica</td>\n",
       "      <td>Reunión de seguimiento,se revisaron los avance...</td>\n",
       "    </tr>\n",
       "    <tr>\n",
       "      <th>2</th>\n",
       "      <td>3</td>\n",
       "      <td>Sofía</td>\n",
       "      <td>Sí</td>\n",
       "      <td>4.7</td>\n",
       "      <td>Mauricio Alfonso</td>\n",
       "      <td>Reunión estratégica,se definieron las metas a ...</td>\n",
       "    </tr>\n",
       "    <tr>\n",
       "      <th>3</th>\n",
       "      <td>4</td>\n",
       "      <td>Pablo</td>\n",
       "      <td>No</td>\n",
       "      <td>2.5</td>\n",
       "      <td>Luisa Guterrez</td>\n",
       "      <td>Reunión informativa,se presentaron los resulta...</td>\n",
       "    </tr>\n",
       "    <tr>\n",
       "      <th>4</th>\n",
       "      <td>5</td>\n",
       "      <td>Laura</td>\n",
       "      <td>Sí</td>\n",
       "      <td>3.9</td>\n",
       "      <td>Maria Monica</td>\n",
       "      <td>Reunión de equipo,se asignaron tareas para el ...</td>\n",
       "    </tr>\n",
       "  </tbody>\n",
       "</table>\n",
       "</div>"
      ],
      "text/plain": [
       "   ID Usuario PrimerAño  Score           Reunion  \\\n",
       "0   1     Ana        Sí    4.2       Luis Andres   \n",
       "1   2  Carlos        No    3.8      Maria Monica   \n",
       "2   3   Sofía        Sí    4.7  Mauricio Alfonso   \n",
       "3   4   Pablo        No    2.5    Luisa Guterrez   \n",
       "4   5   Laura        Sí    3.9      Maria Monica   \n",
       "\n",
       "                                         Comentarios  \n",
       "0  Reunión productiva,se discutieron los próximos...  \n",
       "1  Reunión de seguimiento,se revisaron los avance...  \n",
       "2  Reunión estratégica,se definieron las metas a ...  \n",
       "3  Reunión informativa,se presentaron los resulta...  \n",
       "4  Reunión de equipo,se asignaron tareas para el ...  "
      ]
     },
     "execution_count": 16,
     "metadata": {},
     "output_type": "execute_result"
    }
   ],
   "source": [
    "df.head()\n"
   ]
  },
  {
   "cell_type": "code",
   "execution_count": 17,
   "metadata": {},
   "outputs": [
    {
     "name": "stderr",
     "output_type": "stream",
     "text": [
      "/Users/jimmy/opt/anaconda3/envs/venv2/lib/python3.6/site-packages/ipykernel_launcher.py:6: UserWarning: Matplotlib is currently using agg, which is a non-GUI backend, so cannot show the figure.\n",
      "  \n"
     ]
    }
   ],
   "source": [
    "ax = df['Score'].value_counts().sort_index()\\\n",
    "    .plot(kind= 'bar', \n",
    "    title = 'Puntaje de review de Reunion', \n",
    "    figsize=(10,5))\n",
    "ax.set_xlabel('Review Score')\n",
    "plt.show()"
   ]
  },
  {
   "cell_type": "code",
   "execution_count": 18,
   "metadata": {},
   "outputs": [
    {
     "name": "stdout",
     "output_type": "stream",
     "text": [
      "      ID   Usuario PrimerAño  Score           Reunion  \\\n",
      "0      1       Ana        Sí    4.2       Luis Andres   \n",
      "1      2    Carlos        No    3.8      Maria Monica   \n",
      "2      3     Sofía        Sí    4.7  Mauricio Alfonso   \n",
      "3      4     Pablo        No    2.5    Luisa Guterrez   \n",
      "4      5     Laura        Sí    3.9      Maria Monica   \n",
      "..   ...       ...       ...    ...               ...   \n",
      "335  336     Sofía        Sí    3.7      Maria Monica   \n",
      "336  337    Andrés        No    2.4  Mauricio Alfonso   \n",
      "337  338   Daniela        Sí    4.1    Luisa Guterrez   \n",
      "338  339     Lucas        No    3.5       Luis Andres   \n",
      "339  340  Carolina        Sí    4.3      Maria Monica   \n",
      "\n",
      "                                           Comentarios  \n",
      "0    Reunión productiva,se discutieron los próximos...  \n",
      "1    Reunión de seguimiento,se revisaron los avance...  \n",
      "2    Reunión estratégica,se definieron las metas a ...  \n",
      "3    Reunión informativa,se presentaron los resulta...  \n",
      "4    Reunión de equipo,se asignaron tareas para el ...  \n",
      "..                                                 ...  \n",
      "335  Reunión de equipo,se discutieron estrategias d...  \n",
      "336  Reunión de análisis,se evaluaron métricas de d...  \n",
      "337  Reunión de feedback,se compartieron opiniones ...  \n",
      "338  Reunión de resolución,se tomaron decisiones so...  \n",
      "339  Reunión de planificación,se definieron metas p...  \n",
      "\n",
      "[340 rows x 6 columns]\n"
     ]
    }
   ],
   "source": [
    "data = df.dropna(subset=[\"Comentarios\"])\n",
    "print(data)"
   ]
  },
  {
   "cell_type": "code",
   "execution_count": 19,
   "metadata": {},
   "outputs": [
    {
     "name": "stdout",
     "output_type": "stream",
     "text": [
      "Reunión de resolución,se abordaron problemas urgentes y se tomaron decisiones.\n"
     ]
    }
   ],
   "source": [
    "example = data['Comentarios'][9]\n",
    "print(example)"
   ]
  },
  {
   "cell_type": "code",
   "execution_count": 20,
   "metadata": {},
   "outputs": [],
   "source": [
    "nlp = spacy.load('es_core_news_md')\n"
   ]
  },
  {
   "cell_type": "code",
   "execution_count": 21,
   "metadata": {},
   "outputs": [
    {
     "name": "stdout",
     "output_type": "stream",
     "text": [
      "Reunión de resolución,se abordaron problemas urgentes y se tomaron decisiones.\n"
     ]
    }
   ],
   "source": [
    "doc = nlp(example)\n",
    "print(doc)"
   ]
  },
  {
   "cell_type": "code",
   "execution_count": 22,
   "metadata": {},
   "outputs": [
    {
     "name": "stdout",
     "output_type": "stream",
     "text": [
      "Reunión PROPN nsubj\n",
      "de ADP case\n",
      "resolución NOUN nmod\n",
      ", PUNCT punct\n",
      "él PRON expl:pass\n",
      "abordar VERB ROOT\n",
      "problema NOUN nsubj\n",
      "urgente ADJ amod\n",
      "y CCONJ cc\n",
      "él PRON expl:pass\n",
      "tomar VERB conj\n",
      "decisión NOUN nsubj\n",
      ". PUNCT punct\n"
     ]
    }
   ],
   "source": [
    "for token in doc:\n",
    "    print(token.lemma_, token.pos_, token.dep_)"
   ]
  },
  {
   "cell_type": "code",
   "execution_count": 23,
   "metadata": {},
   "outputs": [],
   "source": [
    "tokens_and_labels = [(token.text, token.pos_) for token in doc if token.is_alpha]"
   ]
  },
  {
   "cell_type": "code",
   "execution_count": 24,
   "metadata": {},
   "outputs": [],
   "source": [
    "def get_bigrams(word_list, number_consecutive_words=2):\n",
    "    \n",
    "    ngrams = []\n",
    "    adj_length_of_word_list = len(word_list) - (number_consecutive_words - 1)\n",
    "    \n",
    "    #Loop through numbers from 0 to the (slightly adjusted) length of your word list\n",
    "    for word_index in range(adj_length_of_word_list):\n",
    "        \n",
    "        #Index the list at each number, grabbing the word at that number index as well as N number of words after it\n",
    "        ngram = word_list[word_index : word_index + number_consecutive_words]\n",
    "        \n",
    "        #Append this word combo to the master list \"ngrams\"\n",
    "        ngrams.append(ngram)\n",
    "        \n",
    "    return ngrams"
   ]
  },
  {
   "cell_type": "code",
   "execution_count": 25,
   "metadata": {},
   "outputs": [],
   "source": [
    "bigrams = get_bigrams(tokens_and_labels)\n"
   ]
  },
  {
   "cell_type": "code",
   "execution_count": 26,
   "metadata": {},
   "outputs": [
    {
     "name": "stdout",
     "output_type": "stream",
     "text": [
      "[[('Reunión', 'PROPN'), ('de', 'ADP')], [('de', 'ADP'), ('resolución', 'NOUN')], [('resolución', 'NOUN'), ('se', 'PRON')], [('se', 'PRON'), ('abordaron', 'VERB')], [('abordaron', 'VERB'), ('problemas', 'NOUN')], [('problemas', 'NOUN'), ('urgentes', 'ADJ')], [('urgentes', 'ADJ'), ('y', 'CCONJ')], [('y', 'CCONJ'), ('se', 'PRON')], [('se', 'PRON'), ('tomaron', 'VERB')], [('tomaron', 'VERB'), ('decisiones', 'NOUN')]]\n"
     ]
    }
   ],
   "source": [
    "print(bigrams)"
   ]
  },
  {
   "cell_type": "markdown",
   "metadata": {},
   "source": [
    "### Vader Seniment scoring"
   ]
  },
  {
   "cell_type": "code",
   "execution_count": 27,
   "metadata": {},
   "outputs": [
    {
     "name": "stderr",
     "output_type": "stream",
     "text": [
      "[nltk_data] Downloading package vader_lexicon to\n",
      "[nltk_data]     /Users/jimmy/nltk_data...\n",
      "[nltk_data]   Package vader_lexicon is already up-to-date!\n"
     ]
    },
    {
     "data": {
      "text/plain": [
       "True"
      ]
     },
     "execution_count": 27,
     "metadata": {},
     "output_type": "execute_result"
    }
   ],
   "source": [
    "nltk.download('vader_lexicon')"
   ]
  },
  {
   "cell_type": "code",
   "execution_count": 28,
   "metadata": {},
   "outputs": [],
   "source": [
    "from nltk.sentiment import SentimentIntensityAnalyzer\n",
    "from tqdm.notebook import tqdm\n",
    "\n",
    "sia = SentimentIntensityAnalyzer()"
   ]
  },
  {
   "cell_type": "code",
   "execution_count": 29,
   "metadata": {},
   "outputs": [
    {
     "data": {
      "text/plain": [
       "<nltk.sentiment.vader.SentimentIntensityAnalyzer at 0x7fdcb65884e0>"
      ]
     },
     "execution_count": 29,
     "metadata": {},
     "output_type": "execute_result"
    }
   ],
   "source": [
    "sia"
   ]
  },
  {
   "cell_type": "code",
   "execution_count": 32,
   "metadata": {},
   "outputs": [
    {
     "name": "stdout",
     "output_type": "stream",
     "text": [
      "Collecting sentiment-analysis-spanish\n",
      "  Using cached sentiment_analysis_spanish-0.0.25-py3-none-any.whl (30.0 MB)\n",
      "Installing collected packages: sentiment-analysis-spanish\n",
      "Successfully installed sentiment-analysis-spanish-0.0.25\n"
     ]
    }
   ],
   "source": [
    "!pip install sentiment-analysis-spanish\n",
    "from sentiment_analysis_spanish import sentiment_analysis\n"
   ]
  },
  {
   "cell_type": "code",
   "execution_count": 33,
   "metadata": {},
   "outputs": [
    {
     "data": {
      "text/plain": [
       "{'neg': 0.0, 'neu': 1.0, 'pos': 0.0, 'compound': 0.0}"
      ]
     },
     "execution_count": 33,
     "metadata": {},
     "output_type": "execute_result"
    }
   ],
   "source": [
    "sia.polarity_scores('Estoy muy feliz')"
   ]
  },
  {
   "cell_type": "code",
   "execution_count": 34,
   "metadata": {},
   "outputs": [
    {
     "name": "stderr",
     "output_type": "stream",
     "text": [
      "/Users/jimmy/opt/anaconda3/envs/venv2/lib/python3.6/site-packages/sklearn/base.py:315: UserWarning: Trying to unpickle estimator CountVectorizer from version 0.23.2 when using version 0.24.2. This might lead to breaking code or invalid results. Use at your own risk.\n",
      "  UserWarning)\n",
      "/Users/jimmy/opt/anaconda3/envs/venv2/lib/python3.6/site-packages/sklearn/base.py:315: UserWarning: Trying to unpickle estimator MultinomialNB from version 0.23.2 when using version 0.24.2. This might lead to breaking code or invalid results. Use at your own risk.\n",
      "  UserWarning)\n"
     ]
    },
    {
     "data": {
      "text/plain": [
       "3.564766139350003e-07"
      ]
     },
     "execution_count": 34,
     "metadata": {},
     "output_type": "execute_result"
    }
   ],
   "source": [
    "sentiment = sentiment_analysis.SentimentAnalysisSpanish()\n",
    "example =\"Sus charlas nos han aterrizado mucho en cómo entender el día a día en el LGM y  cómo entender la forma en que se enseña en el GLM con UDL y en pospandemia. n el GLM con UDL y en pospandemia. \"\n",
    "sentiment_1 =(sentiment.sentiment(example))\n",
    "sentiment_1"
   ]
  },
  {
   "cell_type": "code",
   "execution_count": 35,
   "metadata": {},
   "outputs": [
    {
     "data": {
      "text/html": [
       "<div>\n",
       "<style scoped>\n",
       "    .dataframe tbody tr th:only-of-type {\n",
       "        vertical-align: middle;\n",
       "    }\n",
       "\n",
       "    .dataframe tbody tr th {\n",
       "        vertical-align: top;\n",
       "    }\n",
       "\n",
       "    .dataframe thead th {\n",
       "        text-align: right;\n",
       "    }\n",
       "</style>\n",
       "<table border=\"1\" class=\"dataframe\">\n",
       "  <thead>\n",
       "    <tr style=\"text-align: right;\">\n",
       "      <th></th>\n",
       "      <th>ID</th>\n",
       "      <th>Usuario</th>\n",
       "      <th>PrimerAño</th>\n",
       "      <th>Score</th>\n",
       "      <th>Reunion</th>\n",
       "      <th>Comentarios</th>\n",
       "    </tr>\n",
       "  </thead>\n",
       "  <tbody>\n",
       "    <tr>\n",
       "      <th>0</th>\n",
       "      <td>1</td>\n",
       "      <td>Ana</td>\n",
       "      <td>Sí</td>\n",
       "      <td>4.2</td>\n",
       "      <td>Luis Andres</td>\n",
       "      <td>Reunión productiva,se discutieron los próximos...</td>\n",
       "    </tr>\n",
       "    <tr>\n",
       "      <th>1</th>\n",
       "      <td>2</td>\n",
       "      <td>Carlos</td>\n",
       "      <td>No</td>\n",
       "      <td>3.8</td>\n",
       "      <td>Maria Monica</td>\n",
       "      <td>Reunión de seguimiento,se revisaron los avance...</td>\n",
       "    </tr>\n",
       "    <tr>\n",
       "      <th>2</th>\n",
       "      <td>3</td>\n",
       "      <td>Sofía</td>\n",
       "      <td>Sí</td>\n",
       "      <td>4.7</td>\n",
       "      <td>Mauricio Alfonso</td>\n",
       "      <td>Reunión estratégica,se definieron las metas a ...</td>\n",
       "    </tr>\n",
       "    <tr>\n",
       "      <th>3</th>\n",
       "      <td>4</td>\n",
       "      <td>Pablo</td>\n",
       "      <td>No</td>\n",
       "      <td>2.5</td>\n",
       "      <td>Luisa Guterrez</td>\n",
       "      <td>Reunión informativa,se presentaron los resulta...</td>\n",
       "    </tr>\n",
       "    <tr>\n",
       "      <th>4</th>\n",
       "      <td>5</td>\n",
       "      <td>Laura</td>\n",
       "      <td>Sí</td>\n",
       "      <td>3.9</td>\n",
       "      <td>Maria Monica</td>\n",
       "      <td>Reunión de equipo,se asignaron tareas para el ...</td>\n",
       "    </tr>\n",
       "    <tr>\n",
       "      <th>...</th>\n",
       "      <td>...</td>\n",
       "      <td>...</td>\n",
       "      <td>...</td>\n",
       "      <td>...</td>\n",
       "      <td>...</td>\n",
       "      <td>...</td>\n",
       "    </tr>\n",
       "    <tr>\n",
       "      <th>335</th>\n",
       "      <td>336</td>\n",
       "      <td>Sofía</td>\n",
       "      <td>Sí</td>\n",
       "      <td>3.7</td>\n",
       "      <td>Maria Monica</td>\n",
       "      <td>Reunión de equipo,se discutieron estrategias d...</td>\n",
       "    </tr>\n",
       "    <tr>\n",
       "      <th>336</th>\n",
       "      <td>337</td>\n",
       "      <td>Andrés</td>\n",
       "      <td>No</td>\n",
       "      <td>2.4</td>\n",
       "      <td>Mauricio Alfonso</td>\n",
       "      <td>Reunión de análisis,se evaluaron métricas de d...</td>\n",
       "    </tr>\n",
       "    <tr>\n",
       "      <th>337</th>\n",
       "      <td>338</td>\n",
       "      <td>Daniela</td>\n",
       "      <td>Sí</td>\n",
       "      <td>4.1</td>\n",
       "      <td>Luisa Guterrez</td>\n",
       "      <td>Reunión de feedback,se compartieron opiniones ...</td>\n",
       "    </tr>\n",
       "    <tr>\n",
       "      <th>338</th>\n",
       "      <td>339</td>\n",
       "      <td>Lucas</td>\n",
       "      <td>No</td>\n",
       "      <td>3.5</td>\n",
       "      <td>Luis Andres</td>\n",
       "      <td>Reunión de resolución,se tomaron decisiones so...</td>\n",
       "    </tr>\n",
       "    <tr>\n",
       "      <th>339</th>\n",
       "      <td>340</td>\n",
       "      <td>Carolina</td>\n",
       "      <td>Sí</td>\n",
       "      <td>4.3</td>\n",
       "      <td>Maria Monica</td>\n",
       "      <td>Reunión de planificación,se definieron metas p...</td>\n",
       "    </tr>\n",
       "  </tbody>\n",
       "</table>\n",
       "<p>340 rows × 6 columns</p>\n",
       "</div>"
      ],
      "text/plain": [
       "      ID   Usuario PrimerAño  Score           Reunion  \\\n",
       "0      1       Ana        Sí    4.2       Luis Andres   \n",
       "1      2    Carlos        No    3.8      Maria Monica   \n",
       "2      3     Sofía        Sí    4.7  Mauricio Alfonso   \n",
       "3      4     Pablo        No    2.5    Luisa Guterrez   \n",
       "4      5     Laura        Sí    3.9      Maria Monica   \n",
       "..   ...       ...       ...    ...               ...   \n",
       "335  336     Sofía        Sí    3.7      Maria Monica   \n",
       "336  337    Andrés        No    2.4  Mauricio Alfonso   \n",
       "337  338   Daniela        Sí    4.1    Luisa Guterrez   \n",
       "338  339     Lucas        No    3.5       Luis Andres   \n",
       "339  340  Carolina        Sí    4.3      Maria Monica   \n",
       "\n",
       "                                           Comentarios  \n",
       "0    Reunión productiva,se discutieron los próximos...  \n",
       "1    Reunión de seguimiento,se revisaron los avance...  \n",
       "2    Reunión estratégica,se definieron las metas a ...  \n",
       "3    Reunión informativa,se presentaron los resulta...  \n",
       "4    Reunión de equipo,se asignaron tareas para el ...  \n",
       "..                                                 ...  \n",
       "335  Reunión de equipo,se discutieron estrategias d...  \n",
       "336  Reunión de análisis,se evaluaron métricas de d...  \n",
       "337  Reunión de feedback,se compartieron opiniones ...  \n",
       "338  Reunión de resolución,se tomaron decisiones so...  \n",
       "339  Reunión de planificación,se definieron metas p...  \n",
       "\n",
       "[340 rows x 6 columns]"
      ]
     },
     "execution_count": 35,
     "metadata": {},
     "output_type": "execute_result"
    }
   ],
   "source": [
    "data"
   ]
  },
  {
   "cell_type": "code",
   "execution_count": 36,
   "metadata": {},
   "outputs": [],
   "source": [
    "from tqdm import tqdm"
   ]
  },
  {
   "cell_type": "code",
   "execution_count": 37,
   "metadata": {},
   "outputs": [
    {
     "name": "stderr",
     "output_type": "stream",
     "text": [
      "100%|██████████| 340/340 [00:00<00:00, 2049.56it/s]\n"
     ]
    }
   ],
   "source": [
    "# Correr la libreria en todo el dataframe\n",
    "res={}\n",
    "for i, row in tqdm(data.iterrows(), total = len(data)):\n",
    "    text = row['Comentarios']\n",
    "    myid = row['ID']\n",
    "    res[myid]= sentiment.sentiment(text)\n",
    "\n",
    "    "
   ]
  },
  {
   "cell_type": "code",
   "execution_count": 38,
   "metadata": {},
   "outputs": [
    {
     "data": {
      "text/plain": [
       "{1: 0.7442557060477386,\n",
       " 2: 0.03625479361104279,\n",
       " 3: 0.13031546123430107,\n",
       " 4: 0.2150285341764548,\n",
       " 5: 0.5470026603712943,\n",
       " 6: 0.2522169118093762,\n",
       " 7: 0.2640341006385369,\n",
       " 8: 0.23245205117546122,\n",
       " 9: 0.43663580729999285,\n",
       " 10: 0.0797144268784238,\n",
       " 11: 0.28367848750078517,\n",
       " 12: 0.05850189878010159,\n",
       " 13: 0.42051008959777203,\n",
       " 14: 0.1673975190485446,\n",
       " 15: 0.44450306222529606,\n",
       " 16: 0.17927257682712625,\n",
       " 17: 0.017834191273645248,\n",
       " 18: 0.4762279802380666,\n",
       " 19: 0.2438842189092292,\n",
       " 20: 0.2621435295041906,\n",
       " 21: 0.2621435295041906,\n",
       " 22: 0.08360620109288544,\n",
       " 23: 0.33907248592056144,\n",
       " 24: 0.2621435295041906,\n",
       " 25: 0.2621435295041906,\n",
       " 26: 0.29150453131543796,\n",
       " 27: 0.040305984864308655,\n",
       " 28: 0.29202025861993713,\n",
       " 29: 0.2621435295041906,\n",
       " 30: 0.3784576694915272,\n",
       " 31: 0.1411755772703939,\n",
       " 32: 0.16743008703748496,\n",
       " 33: 0.3053440005879837,\n",
       " 34: 0.3344543889188186,\n",
       " 35: 0.33907248592056144,\n",
       " 36: 0.26262656674320506,\n",
       " 37: 0.34074452091244084,\n",
       " 38: 0.2621435295041906,\n",
       " 39: 0.26938750497293357,\n",
       " 40: 0.44945097186593475,\n",
       " 41: 0.1727050089096805,\n",
       " 42: 0.46053648485740656,\n",
       " 43: 0.4009780899893876,\n",
       " 44: 0.30261511929342705,\n",
       " 45: 0.1411755772703939,\n",
       " 46: 0.42051008959777203,\n",
       " 47: 0.6878184653455987,\n",
       " 48: 0.5291547144953085,\n",
       " 49: 0.23475993127835598,\n",
       " 50: 0.2621435295041906,\n",
       " 51: 0.21205777422457547,\n",
       " 52: 0.23475993127835598,\n",
       " 53: 0.3053440005879837,\n",
       " 54: 0.3222120320728472,\n",
       " 55: 0.032052690101853305,\n",
       " 56: 0.37671039383670885,\n",
       " 57: 0.21739120289336808,\n",
       " 58: 0.26938750497293357,\n",
       " 59: 0.0682011633101729,\n",
       " 60: 0.207682969062719,\n",
       " 61: 0.2621435295041906,\n",
       " 62: 0.23475993127835598,\n",
       " 63: 0.512442748751573,\n",
       " 64: 0.270478073930569,\n",
       " 65: 0.1411755772703939,\n",
       " 66: 0.24706083467425527,\n",
       " 67: 0.040305984864308655,\n",
       " 68: 0.274515119130039,\n",
       " 69: 0.4009780899893876,\n",
       " 70: 0.2621435295041906,\n",
       " 71: 0.2621435295041906,\n",
       " 72: 0.12036280416751716,\n",
       " 73: 0.3053440005879837,\n",
       " 74: 0.30261511929342705,\n",
       " 75: 0.6878184653455987,\n",
       " 76: 0.2621435295041906,\n",
       " 77: 0.23475993127835598,\n",
       " 78: 0.18085952293152555,\n",
       " 79: 0.25401421255941126,\n",
       " 80: 0.34480415041510903,\n",
       " 81: 0.1727050089096805,\n",
       " 82: 0.23475993127835598,\n",
       " 83: 0.25401421255941126,\n",
       " 84: 0.30261511929342705,\n",
       " 85: 0.07032654397182157,\n",
       " 86: 0.25154763594540425,\n",
       " 87: 0.24627051832766736,\n",
       " 88: 0.26262656674320506,\n",
       " 89: 0.207682969062719,\n",
       " 90: 0.17501263415461343,\n",
       " 91: 0.23475993127835598,\n",
       " 92: 0.6819734720289824,\n",
       " 93: 0.21205777422457547,\n",
       " 94: 0.270478073930569,\n",
       " 95: 0.274515119130039,\n",
       " 96: 0.2438842189092292,\n",
       " 97: 0.17927257682712625,\n",
       " 98: 0.2621435295041906,\n",
       " 99: 0.23475993127835598,\n",
       " 100: 0.12070130805737468,\n",
       " 101: 0.2621435295041906,\n",
       " 102: 0.23475993127835598,\n",
       " 103: 0.7210347112814623,\n",
       " 104: 0.22470370429289838,\n",
       " 105: 0.1727050089096805,\n",
       " 106: 0.3068230452268586,\n",
       " 107: 0.4009780899893876,\n",
       " 108: 0.11062177448396422,\n",
       " 109: 0.2621435295041906,\n",
       " 110: 0.17311023424883856,\n",
       " 111: 0.24706083467425527,\n",
       " 112: 0.26262656674320506,\n",
       " 113: 0.34074452091244084,\n",
       " 114: 0.37671039383670885,\n",
       " 115: 0.23475993127835598,\n",
       " 116: 0.30261511929342705,\n",
       " 117: 0.23475993127835598,\n",
       " 118: 0.13869805269631555,\n",
       " 119: 0.2621435295041906,\n",
       " 120: 0.17501263415461343,\n",
       " 121: 0.23475993127835598,\n",
       " 122: 0.07032654397182157,\n",
       " 123: 0.15273030850175554,\n",
       " 124: 0.22470370429289838,\n",
       " 125: 0.17311023424883856,\n",
       " 126: 0.18085952293152555,\n",
       " 127: 0.23475993127835598,\n",
       " 128: 0.6819734720289824,\n",
       " 129: 0.3344543889188186,\n",
       " 130: 0.12070130805737468,\n",
       " 131: 0.2621435295041906,\n",
       " 132: 0.4009780899893876,\n",
       " 133: 0.040305984864308655,\n",
       " 134: 0.2621435295041906,\n",
       " 135: 0.1727050089096805,\n",
       " 136: 0.6138445669454675,\n",
       " 137: 0.4009780899893876,\n",
       " 138: 0.23475993127835598,\n",
       " 139: 0.11062177448396422,\n",
       " 140: 0.2621435295041906,\n",
       " 141: 0.23475993127835598,\n",
       " 142: 0.3068230452268586,\n",
       " 143: 0.5362911711176611,\n",
       " 144: 0.26262656674320506,\n",
       " 145: 0.23475993127835598,\n",
       " 146: 0.2621435295041906,\n",
       " 147: 0.2621435295041906,\n",
       " 148: 0.17501263415461343,\n",
       " 149: 0.512442748751573,\n",
       " 150: 0.23475993127835598,\n",
       " 151: 0.7210347112814623,\n",
       " 152: 0.25401421255941126,\n",
       " 153: 0.1727050089096805,\n",
       " 154: 0.13869805269631555,\n",
       " 155: 0.23475993127835598,\n",
       " 156: 0.30261511929342705,\n",
       " 157: 0.23475993127835598,\n",
       " 158: 0.07032654397182157,\n",
       " 159: 0.21205777422457547,\n",
       " 160: 0.46053648485740656,\n",
       " 161: 0.2621435295041906,\n",
       " 162: 0.4009780899893876,\n",
       " 163: 0.040305984864308655,\n",
       " 164: 0.2621435295041906,\n",
       " 165: 0.1727050089096805,\n",
       " 166: 0.6138445669454675,\n",
       " 167: 0.4009780899893876,\n",
       " 168: 0.23475993127835598,\n",
       " 169: 0.11062177448396422,\n",
       " 170: 0.2621435295041906,\n",
       " 171: 0.23475993127835598,\n",
       " 172: 0.3068230452268586,\n",
       " 173: 0.5362911711176611,\n",
       " 174: 0.26262656674320506,\n",
       " 175: 0.23475993127835598,\n",
       " 176: 0.2621435295041906,\n",
       " 177: 0.2621435295041906,\n",
       " 178: 0.17501263415461343,\n",
       " 179: 0.512442748751573,\n",
       " 180: 0.23475993127835598,\n",
       " 181: 0.7210347112814623,\n",
       " 182: 0.25401421255941126,\n",
       " 183: 0.1727050089096805,\n",
       " 184: 0.13869805269631555,\n",
       " 185: 0.23475993127835598,\n",
       " 186: 0.30261511929342705,\n",
       " 187: 0.23475993127835598,\n",
       " 188: 0.07032654397182157,\n",
       " 189: 0.21205777422457547,\n",
       " 190: 0.46053648485740656,\n",
       " 191: 0.2621435295041906,\n",
       " 192: 0.4009780899893876,\n",
       " 193: 0.040305984864308655,\n",
       " 194: 0.2621435295041906,\n",
       " 195: 0.1727050089096805,\n",
       " 196: 0.6138445669454675,\n",
       " 197: 0.4009780899893876,\n",
       " 198: 0.23475993127835598,\n",
       " 199: 0.11062177448396422,\n",
       " 200: 0.2621435295041906,\n",
       " 201: 0.23475993127835598,\n",
       " 202: 0.3068230452268586,\n",
       " 203: 0.5362911711176611,\n",
       " 204: 0.26262656674320506,\n",
       " 205: 0.23475993127835598,\n",
       " 206: 0.2621435295041906,\n",
       " 207: 0.2621435295041906,\n",
       " 208: 0.17501263415461343,\n",
       " 209: 0.512442748751573,\n",
       " 210: 0.23475993127835598,\n",
       " 211: 0.7210347112814623,\n",
       " 212: 0.25401421255941126,\n",
       " 213: 0.1727050089096805,\n",
       " 214: 0.13869805269631555,\n",
       " 215: 0.23475993127835598,\n",
       " 216: 0.30261511929342705,\n",
       " 217: 0.23475993127835598,\n",
       " 218: 0.07032654397182157,\n",
       " 219: 0.21205777422457547,\n",
       " 220: 0.46053648485740656,\n",
       " 221: 0.2621435295041906,\n",
       " 222: 0.4009780899893876,\n",
       " 223: 0.040305984864308655,\n",
       " 224: 0.2621435295041906,\n",
       " 225: 0.1727050089096805,\n",
       " 226: 0.6138445669454675,\n",
       " 227: 0.4009780899893876,\n",
       " 228: 0.23475993127835598,\n",
       " 229: 0.11062177448396422,\n",
       " 230: 0.2621435295041906,\n",
       " 231: 0.23475993127835598,\n",
       " 232: 0.3068230452268586,\n",
       " 233: 0.5362911711176611,\n",
       " 234: 0.26262656674320506,\n",
       " 235: 0.23475993127835598,\n",
       " 236: 0.2621435295041906,\n",
       " 237: 0.2621435295041906,\n",
       " 238: 0.17501263415461343,\n",
       " 239: 0.512442748751573,\n",
       " 240: 0.23475993127835598,\n",
       " 241: 0.7210347112814623,\n",
       " 242: 0.25401421255941126,\n",
       " 243: 0.1727050089096805,\n",
       " 244: 0.13869805269631555,\n",
       " 245: 0.23475993127835598,\n",
       " 246: 0.30261511929342705,\n",
       " 247: 0.23475993127835598,\n",
       " 248: 0.07032654397182157,\n",
       " 249: 0.21205777422457547,\n",
       " 250: 0.46053648485740656,\n",
       " 251: 0.2621435295041906,\n",
       " 252: 0.4009780899893876,\n",
       " 253: 0.040305984864308655,\n",
       " 254: 0.2621435295041906,\n",
       " 255: 0.1727050089096805,\n",
       " 256: 0.6138445669454675,\n",
       " 257: 0.4009780899893876,\n",
       " 258: 0.23475993127835598,\n",
       " 259: 0.11062177448396422,\n",
       " 260: 0.2621435295041906,\n",
       " 261: 0.23475993127835598,\n",
       " 262: 0.3068230452268586,\n",
       " 263: 0.5362911711176611,\n",
       " 264: 0.26262656674320506,\n",
       " 265: 0.23475993127835598,\n",
       " 266: 0.2621435295041906,\n",
       " 267: 0.2621435295041906,\n",
       " 268: 0.17501263415461343,\n",
       " 269: 0.512442748751573,\n",
       " 270: 0.23475993127835598,\n",
       " 271: 0.7210347112814623,\n",
       " 272: 0.25401421255941126,\n",
       " 273: 0.1727050089096805,\n",
       " 274: 0.13869805269631555,\n",
       " 275: 0.23475993127835598,\n",
       " 276: 0.30261511929342705,\n",
       " 277: 0.23475993127835598,\n",
       " 278: 0.07032654397182157,\n",
       " 279: 0.21205777422457547,\n",
       " 280: 0.46053648485740656,\n",
       " 281: 0.2621435295041906,\n",
       " 282: 0.4009780899893876,\n",
       " 283: 0.040305984864308655,\n",
       " 284: 0.2621435295041906,\n",
       " 285: 0.1727050089096805,\n",
       " 286: 0.6138445669454675,\n",
       " 287: 0.4009780899893876,\n",
       " 288: 0.23475993127835598,\n",
       " 289: 0.11062177448396422,\n",
       " 290: 0.2621435295041906,\n",
       " 291: 0.23475993127835598,\n",
       " 292: 0.3068230452268586,\n",
       " 293: 0.5362911711176611,\n",
       " 294: 0.26262656674320506,\n",
       " 295: 0.23475993127835598,\n",
       " 296: 0.2621435295041906,\n",
       " 297: 0.2621435295041906,\n",
       " 298: 0.17501263415461343,\n",
       " 299: 0.512442748751573,\n",
       " 300: 0.23475993127835598,\n",
       " 301: 0.7210347112814623,\n",
       " 302: 0.25401421255941126,\n",
       " 303: 0.1727050089096805,\n",
       " 304: 0.13869805269631555,\n",
       " 305: 0.23475993127835598,\n",
       " 306: 0.30261511929342705,\n",
       " 307: 0.23475993127835598,\n",
       " 308: 0.07032654397182157,\n",
       " 309: 0.21205777422457547,\n",
       " 310: 0.46053648485740656,\n",
       " 311: 0.2621435295041906,\n",
       " 312: 0.4009780899893876,\n",
       " 313: 0.040305984864308655,\n",
       " 314: 0.2621435295041906,\n",
       " 315: 0.1727050089096805,\n",
       " 316: 0.6138445669454675,\n",
       " 317: 0.4009780899893876,\n",
       " 318: 0.23475993127835598,\n",
       " 319: 0.11062177448396422,\n",
       " 320: 0.2621435295041906,\n",
       " 321: 0.23475993127835598,\n",
       " 322: 0.3068230452268586,\n",
       " 323: 0.5362911711176611,\n",
       " 324: 0.26262656674320506,\n",
       " 325: 0.23475993127835598,\n",
       " 326: 0.2621435295041906,\n",
       " 327: 0.2621435295041906,\n",
       " 328: 0.17501263415461343,\n",
       " 329: 0.512442748751573,\n",
       " 330: 0.23475993127835598,\n",
       " 331: 0.7210347112814623,\n",
       " 332: 0.25401421255941126,\n",
       " 333: 0.1727050089096805,\n",
       " 334: 0.13869805269631555,\n",
       " 335: 0.23475993127835598,\n",
       " 336: 0.30261511929342705,\n",
       " 337: 0.23475993127835598,\n",
       " 338: 0.07032654397182157,\n",
       " 339: 0.21205777422457547,\n",
       " 340: 0.46053648485740656}"
      ]
     },
     "execution_count": 38,
     "metadata": {},
     "output_type": "execute_result"
    }
   ],
   "source": [
    "res"
   ]
  },
  {
   "cell_type": "code",
   "execution_count": 39,
   "metadata": {},
   "outputs": [],
   "source": [
    "vaders = pd.DataFrame((res), index=['Puntaje']).T\n",
    "vaders = vaders.reset_index().rename(columns ={'index':'ID'})\n",
    "vaders=vaders.merge(data, how ='left')"
   ]
  },
  {
   "cell_type": "code",
   "execution_count": 40,
   "metadata": {},
   "outputs": [
    {
     "data": {
      "text/html": [
       "<div>\n",
       "<style scoped>\n",
       "    .dataframe tbody tr th:only-of-type {\n",
       "        vertical-align: middle;\n",
       "    }\n",
       "\n",
       "    .dataframe tbody tr th {\n",
       "        vertical-align: top;\n",
       "    }\n",
       "\n",
       "    .dataframe thead th {\n",
       "        text-align: right;\n",
       "    }\n",
       "</style>\n",
       "<table border=\"1\" class=\"dataframe\">\n",
       "  <thead>\n",
       "    <tr style=\"text-align: right;\">\n",
       "      <th></th>\n",
       "      <th>ID</th>\n",
       "      <th>Puntaje</th>\n",
       "      <th>Usuario</th>\n",
       "      <th>PrimerAño</th>\n",
       "      <th>Score</th>\n",
       "      <th>Reunion</th>\n",
       "      <th>Comentarios</th>\n",
       "    </tr>\n",
       "  </thead>\n",
       "  <tbody>\n",
       "    <tr>\n",
       "      <th>0</th>\n",
       "      <td>1</td>\n",
       "      <td>0.744256</td>\n",
       "      <td>Ana</td>\n",
       "      <td>Sí</td>\n",
       "      <td>4.2</td>\n",
       "      <td>Luis Andres</td>\n",
       "      <td>Reunión productiva,se discutieron los próximos...</td>\n",
       "    </tr>\n",
       "    <tr>\n",
       "      <th>1</th>\n",
       "      <td>2</td>\n",
       "      <td>0.036255</td>\n",
       "      <td>Carlos</td>\n",
       "      <td>No</td>\n",
       "      <td>3.8</td>\n",
       "      <td>Maria Monica</td>\n",
       "      <td>Reunión de seguimiento,se revisaron los avance...</td>\n",
       "    </tr>\n",
       "    <tr>\n",
       "      <th>2</th>\n",
       "      <td>3</td>\n",
       "      <td>0.130315</td>\n",
       "      <td>Sofía</td>\n",
       "      <td>Sí</td>\n",
       "      <td>4.7</td>\n",
       "      <td>Mauricio Alfonso</td>\n",
       "      <td>Reunión estratégica,se definieron las metas a ...</td>\n",
       "    </tr>\n",
       "    <tr>\n",
       "      <th>3</th>\n",
       "      <td>4</td>\n",
       "      <td>0.215029</td>\n",
       "      <td>Pablo</td>\n",
       "      <td>No</td>\n",
       "      <td>2.5</td>\n",
       "      <td>Luisa Guterrez</td>\n",
       "      <td>Reunión informativa,se presentaron los resulta...</td>\n",
       "    </tr>\n",
       "    <tr>\n",
       "      <th>4</th>\n",
       "      <td>5</td>\n",
       "      <td>0.547003</td>\n",
       "      <td>Laura</td>\n",
       "      <td>Sí</td>\n",
       "      <td>3.9</td>\n",
       "      <td>Maria Monica</td>\n",
       "      <td>Reunión de equipo,se asignaron tareas para el ...</td>\n",
       "    </tr>\n",
       "    <tr>\n",
       "      <th>...</th>\n",
       "      <td>...</td>\n",
       "      <td>...</td>\n",
       "      <td>...</td>\n",
       "      <td>...</td>\n",
       "      <td>...</td>\n",
       "      <td>...</td>\n",
       "      <td>...</td>\n",
       "    </tr>\n",
       "    <tr>\n",
       "      <th>95</th>\n",
       "      <td>96</td>\n",
       "      <td>0.243884</td>\n",
       "      <td>Valentina</td>\n",
       "      <td>Sí</td>\n",
       "      <td>3.8</td>\n",
       "      <td>Luisa Guterrez</td>\n",
       "      <td>Reunión de estrategia,se planificó la expansió...</td>\n",
       "    </tr>\n",
       "    <tr>\n",
       "      <th>96</th>\n",
       "      <td>97</td>\n",
       "      <td>0.179273</td>\n",
       "      <td>Lucas</td>\n",
       "      <td>No</td>\n",
       "      <td>2.3</td>\n",
       "      <td>Luis Andres</td>\n",
       "      <td>Reunión de seguimiento,se revisaron los indica...</td>\n",
       "    </tr>\n",
       "    <tr>\n",
       "      <th>97</th>\n",
       "      <td>98</td>\n",
       "      <td>0.262144</td>\n",
       "      <td>Daniela</td>\n",
       "      <td>Sí</td>\n",
       "      <td>4.2</td>\n",
       "      <td>Maria Monica</td>\n",
       "      <td>Reunión de planificación,se establecieron obje...</td>\n",
       "    </tr>\n",
       "    <tr>\n",
       "      <th>98</th>\n",
       "      <td>99</td>\n",
       "      <td>0.234760</td>\n",
       "      <td>Emilio</td>\n",
       "      <td>No</td>\n",
       "      <td>3.5</td>\n",
       "      <td>Mauricio Alfonso</td>\n",
       "      <td>Reunión de análisis,se evaluaron oportunidades...</td>\n",
       "    </tr>\n",
       "    <tr>\n",
       "      <th>99</th>\n",
       "      <td>100</td>\n",
       "      <td>0.120701</td>\n",
       "      <td>Alejandra</td>\n",
       "      <td>Sí</td>\n",
       "      <td>4.9</td>\n",
       "      <td>Luisa Guterrez</td>\n",
       "      <td>Reunión de innovación,se generaron ideas para ...</td>\n",
       "    </tr>\n",
       "  </tbody>\n",
       "</table>\n",
       "<p>100 rows × 7 columns</p>\n",
       "</div>"
      ],
      "text/plain": [
       "     ID   Puntaje    Usuario PrimerAño  Score           Reunion  \\\n",
       "0     1  0.744256        Ana        Sí    4.2       Luis Andres   \n",
       "1     2  0.036255     Carlos        No    3.8      Maria Monica   \n",
       "2     3  0.130315      Sofía        Sí    4.7  Mauricio Alfonso   \n",
       "3     4  0.215029      Pablo        No    2.5    Luisa Guterrez   \n",
       "4     5  0.547003      Laura        Sí    3.9      Maria Monica   \n",
       "..  ...       ...        ...       ...    ...               ...   \n",
       "95   96  0.243884  Valentina        Sí    3.8    Luisa Guterrez   \n",
       "96   97  0.179273      Lucas        No    2.3       Luis Andres   \n",
       "97   98  0.262144    Daniela        Sí    4.2      Maria Monica   \n",
       "98   99  0.234760     Emilio        No    3.5  Mauricio Alfonso   \n",
       "99  100  0.120701  Alejandra        Sí    4.9    Luisa Guterrez   \n",
       "\n",
       "                                          Comentarios  \n",
       "0   Reunión productiva,se discutieron los próximos...  \n",
       "1   Reunión de seguimiento,se revisaron los avance...  \n",
       "2   Reunión estratégica,se definieron las metas a ...  \n",
       "3   Reunión informativa,se presentaron los resulta...  \n",
       "4   Reunión de equipo,se asignaron tareas para el ...  \n",
       "..                                                ...  \n",
       "95  Reunión de estrategia,se planificó la expansió...  \n",
       "96  Reunión de seguimiento,se revisaron los indica...  \n",
       "97  Reunión de planificación,se establecieron obje...  \n",
       "98  Reunión de análisis,se evaluaron oportunidades...  \n",
       "99  Reunión de innovación,se generaron ideas para ...  \n",
       "\n",
       "[100 rows x 7 columns]"
      ]
     },
     "execution_count": 40,
     "metadata": {},
     "output_type": "execute_result"
    }
   ],
   "source": [
    "vaders.head(100)"
   ]
  },
  {
   "cell_type": "code",
   "execution_count": 41,
   "metadata": {},
   "outputs": [
    {
     "name": "stderr",
     "output_type": "stream",
     "text": [
      "/Users/jimmy/opt/anaconda3/envs/venv2/lib/python3.6/site-packages/ipykernel_launcher.py:3: UserWarning: Matplotlib is currently using agg, which is a non-GUI backend, so cannot show the figure.\n",
      "  This is separate from the ipykernel package so we can avoid doing imports until\n"
     ]
    }
   ],
   "source": [
    "ax = sns.barplot(data =vaders, x='Score', y ='Puntaje')\n",
    "ax.set_title('Compund score sobre encuestas')\n",
    "plt.show()"
   ]
  },
  {
   "cell_type": "code",
   "execution_count": null,
   "metadata": {},
   "outputs": [],
   "source": [
    "!conda install -c huggingface transformers\n",
    "from transformers import AutoModelForSequenceClassification\n",
    "from transformers import TFAutoModelForSequenceClassification\n",
    "from transformers import AutoTokenizer, AutoConfig\n",
    "import numpy as np\n",
    "from scipy.special import softmax\n"
   ]
  },
  {
   "cell_type": "code",
   "execution_count": null,
   "metadata": {},
   "outputs": [],
   "source": [
    "MODEL = f\"cardiffnlp/twitter-xlm-roberta-base-sentiment\"\n",
    "tokenizer = AutoTokenizer.from_pretrained(MODEL)\n",
    "model = AutoModelForSequenceClassification.from_pretrained(MODEL)"
   ]
  },
  {
   "cell_type": "code",
   "execution_count": 29,
   "metadata": {},
   "outputs": [
    {
     "name": "stdout",
     "output_type": "stream",
     "text": [
      "{'roberta_neg': 0.054850083, 'roberta_neu': 0.4396693, 'roberta_pos': 0.5054806}\n"
     ]
    }
   ],
   "source": [
    "encoded_text = tokenizer(example, return_tensors='pt')\n",
    "output = model(**encoded_text)\n",
    "scores = output[0][0].detach().numpy()\n",
    "scores = softmax(scores)\n",
    "scores_dict = {\n",
    "    'roberta_neg' : scores[0],\n",
    "    'roberta_neu' : scores[1],\n",
    "    'roberta_pos' : scores[2]\n",
    "}\n",
    "print(scores_dict)"
   ]
  },
  {
   "cell_type": "code",
   "execution_count": 30,
   "metadata": {},
   "outputs": [],
   "source": [
    "def polarity_scores_roberta(example):\n",
    "    encoded_text = tokenizer(example, return_tensors='pt')\n",
    "    output = model(**encoded_text)\n",
    "    scores = output[0][0].detach().numpy()\n",
    "    scores = softmax(scores)\n",
    "    scores_dict = {\n",
    "        'roberta_neg' : scores[0],\n",
    "        'roberta_neu' : scores[1],\n",
    "        'roberta_pos' : scores[2]\n",
    "    }\n",
    "    return scores_dict"
   ]
  },
  {
   "cell_type": "code",
   "execution_count": 31,
   "metadata": {},
   "outputs": [
    {
     "name": "stderr",
     "output_type": "stream",
     "text": [
      "100%|██████████| 219/219 [00:24<00:00,  8.76it/s]\n"
     ]
    }
   ],
   "source": [
    "res={}\n",
    "for i, row in tqdm(data.iterrows(), total = len(data)):\n",
    "    text = row['Comentarios']\n",
    "    myid = row['ID']\n",
    "    ##res[myid]= sentiment.sentiment(text)\n",
    "    roberta_result = polarity_scores_roberta(text)\n",
    "    res[myid] =roberta_result"
   ]
  },
  {
   "cell_type": "code",
   "execution_count": 32,
   "metadata": {},
   "outputs": [],
   "source": [
    "results_df = pd.DataFrame((res)).T\n",
    "results_df = results_df.reset_index().rename(columns ={'index':'ID'})\n",
    "results_df=results_df.merge(data, how ='left')"
   ]
  },
  {
   "cell_type": "code",
   "execution_count": null,
   "metadata": {},
   "outputs": [],
   "source": [
    "results_df.head()"
   ]
  },
  {
   "cell_type": "code",
   "execution_count": null,
   "metadata": {},
   "outputs": [],
   "source": [
    "results_df.columns"
   ]
  },
  {
   "cell_type": "code",
   "execution_count": 35,
   "metadata": {},
   "outputs": [
    {
     "data": {
      "image/png": "[encoded data removed]",
      "text/plain": [
       "<Figure size 822x750 with 12 Axes>"
      ]
     },
     "metadata": {},
     "output_type": "display_data"
    }
   ],
   "source": [
    "sns.pairplot(data = results_df,\n",
    "            vars= ['roberta_neg', 'roberta_neu', 'roberta_pos'],\n",
    "            hue ='Score',\n",
    "            palette='tab10')\n",
    "plt.show()"
   ]
  },
  {
   "cell_type": "code",
   "execution_count": null,
   "metadata": {},
   "outputs": [],
   "source": []
  }
 ],
 "metadata": {
  "kernelspec": {
   "display_name": "Python 3",
   "language": "python",
   "name": "python3"
  },
  "language_info": {
   "codemirror_mode": {
    "name": "ipython",
    "version": 3
   },
   "file_extension": ".py",
   "mimetype": "text/x-python",
   "name": "python",
   "nbconvert_exporter": "python",
   "pygments_lexer": "ipython3",
   "version": "3.6.13"
  },
  "orig_nbformat": 4,
  "vscode": {
   "interpreter": {
    "hash": "31f2aee4e71d21fbe5cf8b01ff0e069b9275f58929596ceb00d14d90e3e16cd6"
   }
  }
 },
 "nbformat": 4,
 "nbformat_minor": 2
}
